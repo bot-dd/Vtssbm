{
  "cells": [
    {
      "cell_type": "markdown",
      "metadata": {
        "id": "view-in-github",
        "colab_type": "text"
      },
      "source": [
        "<a href=\"https://colab.research.google.com/github/bot-dd/Vtssbm/blob/main/PBX1_BOTS_HK_DEPLOYER.ipynb\" target=\"_parent\"><img src=\"https://colab.research.google.com/assets/colab-badge.svg\" alt=\"Open In Colab\"/></a>"
      ]
    },
    {
      "cell_type": "markdown",
      "metadata": {
        "id": "-3AclxJokI-3"
      },
      "source": [
        "<h1>𝙒𝙕𝙈𝙇-𝙓 𝙃𝙀𝙍𝙊𝙆𝙐</h1>\n",
        "\n",
        "<center><img src='https://telegra.ph/file/7c92901f2308299056e6b.jpg'  height=\"200\" width=\"400\" alt=\"WZML-X-logo\"/></center>\n",
        "\n",
        "---\n",
        "\n",
        "### ***Collab Repository Details***\n",
        "- 🔗 **Repo :** https://github.com/jattsbots/PBX1-LEECH\n",
        "- 🤖 **Version :** _v1.3.3-hx_\n",
        "- ☢️ **Colab Version :** _v1.3_\n",
        "- 📄 **Channel :** https://telegram.me/PBX1_BOTS\n",
        "- 🫂 **Community :** https://telegram.me/PBX1_SUPPORT_CHAT\n",
        "- 🌐 **Website** : https://google.com\n",
        "\n",
        "---\n",
        "### ***Deploy WZML-X in Heroku using Google Colab***"
      ]
    },
    {
      "cell_type": "code",
      "execution_count": null,
      "metadata": {
        "cellView": "form",
        "id": "Tu1bZ6d6b_8o",
        "collapsed": true
      },
      "outputs": [],
      "source": [
        "### ***Deploy WZML-X in Heroku using Google Colab***#@title <center><h3>***Heroku Login***</h3></center><br>\n",
        "\n",
        "#@markdown ---\n",
        "\n",
        "Heroku_Email = \"\" #@param {type:\"string\"}\n",
        "Heroku_API = \"\" #@param {type:\"string\"}\n",
        "#@markdown <h6>( <b>Note:</b> <i>Team App Deploy, Use your Personal API Token</i> )</h6>\n",
        "\n",
        "#@markdown ---\n",
        "\n",
        "!curl -s https://cli-assets.heroku.com/install.sh | sh\n",
        "\n",
        "from IPython.display import HTML, clear_output, display\n",
        "clear_output()\n",
        "display(HTML(\"<marquee><b>Heroku CLI Installed !</b></marquee>\"))\n",
        "\n",
        "if not all([Heroku_Email, Heroku_API]):\n",
        "    raise ValueError(\"Please fill in all Mandatory Variables.\")\n",
        "\n",
        "from os import path as ospath, chmod\n",
        "\n",
        "netrc_path = ospath.expanduser(\"~/.netrc\")\n",
        "\n",
        "netrc_creds = f'''machine api.heroku.com\n",
        "  login {Heroku_Email}\n",
        "  password {Heroku_API}\n",
        "machine git.heroku.com\n",
        "  login {Heroku_Email}\n",
        "  password {Heroku_API}'''\n",
        "with open(netrc_path, \"w\") as netrc_file:\n",
        "    netrc_file.write(netrc_creds)\n",
        "\n",
        "chmod(netrc_path, 0o600)\n",
        "\n",
        "!git config --global user.email {Heroku_Email}\n",
        "!git config --global user.name \"WZML-X\"\n",
        "\n",
        "display(HTML(\"<marquee><b>Heroku Email & Password Loaded!</b></marquee>\"))"
      ]
    },
    {
      "cell_type": "code",
      "source": [
        "#@title <center><h3>***Create Heroku App***</h3></center><br>\n",
        "\n",
        "#@markdown ---\n",
        "App_Name = \"\" #@param {type:\"string\"}\n",
        "#@markdown <h6>( <b>Note:</b> <i>App Name is Optional, skip for random name !</i> )</h6>\n",
        "Server_Region = \"us\" #@param [\"eu\", \"us\"] {allow-input: true}\n",
        "HK_Team_Name = \"\" #@param {type:\"string\"}\n",
        "#@markdown <h6>( <b>Note:</b> <i>Team App Deploy, Optional option only if you want to deploy to Teams !</i> )</h6>\n",
        "\n",
        "#@markdown ---\n",
        "\n",
        "HK_Team_Name = f\"--team {HK_Team_Name}\" if HK_Team_Name else \"\"\n",
        "!heroku create --region $Server_Region --stack container $HK_Team_Name $App_Name"
      ],
      "metadata": {
        "cellView": "form",
        "id": "bosr_QBJwaVL"
      },
      "execution_count": null,
      "outputs": []
    },
    {
      "cell_type": "code",
      "source": [
        "#BingMePRIMEContent@title <center><h3>***WZML-X Repo Config Setup***</h3></center><br>\n",
        "\n",
        "#@markdown #### ***Fill all these Variables for the `config.env`*** **(All are Mandatory)**\n",
        "\n",
        "BOT_TOKEN = \"\"  # @param {type:\"string\"}\n",
        "TELEGRAM_API = None  # @param {type:\"integer\"}\n",
        "TELEGRAM_HASH = \"\"  # @param {type:\"string\"}\n",
        "OWNER_ID = None  # @param {type:\"integer\"}\n",
        "UPSTREAM_REPO = \"https://github.com/jattsbots/PBX1-LEECH\"  # @param {type:\"string\"}\n",
        "UPSTREAM_BRANCH = \"hk_pbx1bots\"  # @param {type:\"string\"}\n",
        "DATABASE_URL = \"\"  # @param {type:\"string\"}\n",
        "BASE_URL = \"\"  # @param {type:\"string\"}\n",
        "TORRENT_TIMEOUT = 0\n",
        "\n",
        "#@markdown ---\n",
        "\n",
        "#@markdown ### ***OR***\n",
        "CONF_GIST_URL = \"\" # @param {type:\"string\"}\n",
        "#@markdown <h6><i>(If you want to Upload `config.env` via `gist.github.com`, Provide the gist URL, Always make Private gist)</i></h6>\n",
        "\n",
        "#@markdown ---\n",
        "\n",
        "#@markdown ### ***OR***\n",
        "Upload_Config = False # @param {type:\"boolean\"}\n",
        "#@markdown <h6><i>(If you want to Upload `config.env` file Externally, Tick the Above CheckBox)</i></h6>\n",
        "\n",
        "#@markdown ---\n",
        "\n",
        "#@markdown ### ***Additional Options***\n",
        "Modify_Pkgs = \"yt-dlp==2024.12.23, pyrofork==2.2.11, aiohttp\" #@param [\"pyrogram==2.0.77\", \"pyrogram==2.0.106\", \"bs4, aiohttp, cfscr\"] {allow-input: true, type:\"string\"}\n",
        "Remove_Pkgs = \"pyrogram\" #@param [\"pyrogram\"] {allow-input: true, type:\"string\"}\n",
        "#@markdown <h6><i>(If you want to edit requirements.txt custom, separated via \", \" (comma) for multiple)</i></h6>\n",
        "\n",
        "#@markdown ---\n",
        "\n",
        "if not Upload_Config and not CONF_GIST_URL and not all([BOT_TOKEN, TELEGRAM_API, TELEGRAM_HASH, OWNER_ID, UPSTREAM_REPO, DATABASE_URL, BASE_URL]):\n",
        "    raise ValueError(\"Please fill in all Mandatory Variables.\")\n",
        "\n",
        "!git clone https://github.com/jattsbots/PBX1-LEECH\n",
        "%cd PBX1-LEECH\n",
        "\n",
        "if Upload_Config:\n",
        "    from google.colab import files\n",
        "    config_creds = list(files.upload().values())[0]\n",
        "    with open(\"config.env\", \"wb\") as config_file:\n",
        "        config_file.write(config_creds)\n",
        "    print(\"config.env File Uploaded and Saved Successfully\")\n",
        "elif CONF_GIST_URL:\n",
        "    !curl -o \"config.env\" $CONF_GIST_URL\n",
        "    print(\"config.env File Extracted and Saved Successfully\")\n",
        "elif all([BOT_TOKEN, TELEGRAM_API, TELEGRAM_HASH, OWNER_ID, UPSTREAM_REPO, DATABASE_URL, BASE_URL]):\n",
        "    config_creds = f'BOT_TOKEN = \"{BOT_TOKEN}\"\\n' \\\n",
        "                   f'TELEGRAM_API = \"{TELEGRAM_API}\"\\n' \\\n",
        "                   f'TELEGRAM_HASH = \"{TELEGRAM_HASH}\"\\n' \\\n",
        "                   f'OWNER_ID = \"{OWNER_ID}\"\\n' \\\n",
        "                   f'UPSTREAM_REPO = \"{UPSTREAM_REPO}\"\\n' \\\n",
        "                   f'UPSTREAM_BRANCH = \"{UPSTREAM_BRANCH}\"\\n' \\\n",
        "                   f'DATABASE_URL = \"{DATABASE_URL}\"\\n' \\\n",
        "                   f'BASE_URL = \"{BASE_URL}\"\\n' \\\n",
        "                   f'TORRENT_TIMEOUT = \"{TORRENT_TIMEOUT}\"\\n'\n",
        "\n",
        "    with open(\"config.env\", \"wb\") as config_file:\n",
        "        config_file.write(config_creds.encode())\n",
        "    print(\"config.env File made and Saved Successfully\")\n",
        "\n",
        "if Modify_Pkgs:\n",
        "    from re import split as rsplit, escape\n",
        "    edit_pkgs = [pkg.strip() for pkg in Modify_Pkgs.split(',')]\n",
        "    rm_pkgs = [pkg.strip() for pkg in Remove_Pkgs.split(',')]\n",
        "\n",
        "    with open(\"requirements.txt\", \"r\") as req_file:\n",
        "        contents = req_file.readlines()\n",
        "\n",
        "    for i, line in enumerate(contents):\n",
        "        for pkg in rm_pkgs:\n",
        "            if line.startswith(pkg.lower()):\n",
        "                del contents[i]\n",
        "                rm_pkgs.remove(pkg)\n",
        "\n",
        "    if len(rm_pkgs) != 0:\n",
        "        print(f\"Following Packages Not Found : {', '.join(rm_pkgs)}\")\n",
        "\n",
        "    for i, line in enumerate(contents):\n",
        "        for pkg in edit_pkgs:\n",
        "            if line.startswith(rsplit('|'.join(map(escape, ['==', '>=', '<=', '~='])), pkg)[0]):\n",
        "                contents[i] = f\"{pkg}\\n\"\n",
        "                edit_pkgs.remove(pkg)\n",
        "\n",
        "    if len(edit_pkgs) != 0:\n",
        "        contents.extend(edit_pkgs)\n",
        "\n",
        "    with open(\"requirements.txt\", \"w\") as req_file:\n",
        "        req_file.writelines(contents)\n",
        "    print(f\"requirements.txt file is Updated : {Modify_Pkgs}\")"
      ],
      "metadata": {
        "id": "MPmyq7Qb4cEE",
        "cellView": "form"
      },
      "execution_count": null,
      "outputs": []
    },
    {
      "cell_type": "code",
      "execution_count": null,
      "metadata": {
        "cellView": "form",
        "id": "NDPpjAw3ciuH"
      },
      "outputs": [],
      "source": [
        "# @title <center><h3>***Deploy Heroku App***</h3></center><br>\n",
        "\n",
        "#@markdown ---\n",
        "App_Name = \"\" #@param {type:\"string\"}\n",
        "#@markdown ---\n",
        "\n",
        "!git add . -f\n",
        "!git commit -m \"HK Setup\"\n",
        "!heroku git:remote -a {App_Name}\n",
        "!git push heroku main -f"
      ]
    },
    {
      "cell_type": "code",
      "execution_count": null,
      "metadata": {
        "cellView": "form",
        "id": "59JCVGv2czsN"
      },
      "outputs": [],
      "source": [
        "# @title <center><h3>***Show Heroku App Logs***</h3></center><br>\n",
        "\n",
        "#@markdown ---\n",
        "App_Name = \"\" #@param {type:\"string\"}\n",
        "#@markdown ---\n",
        "\n",
        "!heroku logs -a {App_Name}"
      ]
    },
    {
      "cell_type": "code",
      "execution_count": null,
      "metadata": {
        "cellView": "form",
        "id": "qMsyRfkxc6jI"
      },
      "outputs": [],
      "source": [
        "#@title <center><h3>***Heroku Logout***</h3></center><br>\n",
        "\n",
        "!heroku logout"
      ]
    }
  ],
  "metadata": {
    "colab": {
      "provenance": [],
      "include_colab_link": true
    },
    "kernelspec": {
      "display_name": "Python 3",
      "name": "python3"
    },
    "language_info": {
      "name": "python"
    }
  },
  "nbformat": 4,
  "nbformat_minor": 0
}